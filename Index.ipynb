{
 "cells": [
  {
   "cell_type": "markdown",
   "metadata": {},
   "source": [
    "# Bayesian Methods in Astronomy: Hands-on Statistics"
   ]
  },
  {
   "cell_type": "markdown",
   "metadata": {},
   "source": [
    "This is the content for the *Bayesian Methods in Astronomy* workshop, presented at the 227th meeting of the American Astronomical Society.\n",
    "The full repository can be found on GitHub: [http://github.com/jakevdp/AAS227Workshop](https://github.com/jakevdp/AAS227Workshop)"
   ]
  },
  {
   "cell_type": "markdown",
   "metadata": {},
   "source": [
    "## Contents\n",
    "\n",
    "### [1. Introduction: Probability and Bayes' Rule](01-Introduction.ipynb)\n",
    "\n",
    "### [2. Simple Bayesian Modeling](02-Simple-Bayesian-Modeling.ipynb)\n",
    "- Solutions to exercise and breakout [here](Solutions-02.ipynb)\n",
    "   \n",
    "### [3. Bayesian Modeling via Sampling](03-Bayesian-Modeling-With-MCMC.ipynb)\n",
    "- Solutions to breakout [here](Solutions-03.ipynb)\n",
    "\n",
    "### [4. Implementing MCMC](04-Implementing-MCMC.ipynb)\n",
    "- Solutions to breakout [here](Solutions-04.ipynb)\n",
    "\n",
    "### [5. Application: Radial Velocity Planet Searches](05-Radial-Velocity.ipynb)\n",
    "- Solutions to breakout [here](Solutions-05.ipynb)"
   ]
  },
  {
   "cell_type": "markdown",
   "metadata": {},
   "source": [
    "## Requirements\n",
    "\n",
    "For this workshop we will be using Python, and in particular *Python version 3.4-3.5*. In addition, we will make use of the following packages, along with their dependencies.\n",
    "\n",
    "**Note that familiarity with the following packages is considered a pre-requisite to the workshop. We will not be spending time helping people with setting up or installing these packages.**\n",
    "\n",
    "- [NumPy](http://numpy.org) (Numerical Python) for efficient manipulation of array-based data\n",
    "- [SciPy](http://scipy.org) (Scientific Python) for optimization and other routines\n",
    "- [Pandas](http://pandas.pydata.org) for reading data files into arrays\n",
    "- [Matplotlib](http://matplotlib.org) for scientific visualization\n",
    "- [IPython notebook](http://ipython.org) as an interactive computing environment\n",
    "\n",
    "To install these dependencies, I *highly* recommend using the [miniconda](http://conda.pydata.org/miniconda.html) Python installer *(be sure to download the Python 3.5 version of miniconda)*. Once this is installed, run the following commands in your terminal:\n",
    "\n",
    "```\n",
    "$ conda install numpy scipy pandas matplotlib ipython-notebook pip\n",
    "```\n",
    "\n",
    "On top of these prerequisites, we will be introducing two relatively lightweight packages designed to enable efficient Bayesian computation in Python.\n",
    "They are:\n",
    "\n",
    "- [emcee](http://dan.iel.fm/emcee/) for Markov Chain Monte Carlo sampling of Bayesian posteriors\n",
    "- [corner.py](https://pypi.python.org/pypi/corner/1.0.0) for visualization of multidimensional posteriors\n",
    "\n",
    "These can be installed via the Python Package Index, using the ``pip`` command:\n",
    "\n",
    "```\n",
    "$ pip install emcee\n",
    "$ pip install corner\n",
    "```"
   ]
  },
  {
   "cell_type": "markdown",
   "metadata": {},
   "source": [
    "## Workshop Material\n",
    "\n",
    "All the material for this workshop, as well as the exercises we will work on together, is contained in IPython notebooks within this repository.\n",
    "Please clone this repository (if you are familiar with Git) or download the zip file (link is to the right on the main repository page) to download this content; note that I will likely update the material in the days prior to the workshop, so please plan to git-pull or re-download the zip file the morning of the workshop."
   ]
  }
 ],
 "metadata": {
  "kernelspec": {
   "display_name": "Python [default]",
   "language": "python",
   "name": "python3"
  },
  "language_info": {
   "codemirror_mode": {
    "name": "ipython",
    "version": 3
   },
   "file_extension": ".py",
   "mimetype": "text/x-python",
   "name": "python",
   "nbconvert_exporter": "python",
   "pygments_lexer": "ipython3",
   "version": "3.5.2"
  }
 },
 "nbformat": 4,
 "nbformat_minor": 1
}
